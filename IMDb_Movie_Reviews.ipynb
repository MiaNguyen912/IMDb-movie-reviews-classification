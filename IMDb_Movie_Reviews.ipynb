{
 "cells": [
  {
   "cell_type": "markdown",
   "metadata": {},
   "source": [
    "# <center> CS 178: Machine Learning &amp; Data Mining </center>\n",
    "## <center> Course Project: Analyzing the IMDb Movie Reviews Dataset</center>"
   ]
  },
  {
   "cell_type": "markdown",
   "metadata": {},
   "source": [
    "### import libraries"
   ]
  },
  {
   "cell_type": "code",
   "execution_count": 19,
   "metadata": {},
   "outputs": [],
   "source": [
    "import math\n",
    "import numpy as np\n",
    "import pandas as pd\n",
    "import matplotlib.pyplot as plt\n",
    "import scipy\n",
    "from sklearn.preprocessing import StandardScaler\n",
    "from typing import Tuple\n",
    "from sklearn.model_selection import train_test_split\n",
    "from datasets import load_dataset\n",
    "\n",
    "\n",
    "from sklearn.neighbors import KNeighborsClassifier, NearestCentroid # KNN classifier, Nearest centroid classifier\n",
    "from sklearn.metrics import accuracy_score, confusion_matrix, ConfusionMatrixDisplay, roc_auc_score\n",
    "from sklearn.inspection import DecisionBoundaryDisplay\n",
    "\n",
    "from sklearn.linear_model import LogisticRegression # Logistic classifier\n",
    "from sklearn.feature_extraction.text import CountVectorizer\n",
    "\n",
    "from sklearn.neural_network import MLPClassifier # neural network classifier\n",
    "\n",
    "from sklearn.tree import DecisionTreeClassifier, plot_tree # decision tree classifier\n",
    "\n",
    "import warnings\n",
    "warnings.filterwarnings('ignore')\n",
    "\n",
    "seed = 1234 # Fix the random seed for reproducibility\n",
    "np.random.seed(seed)  "
   ]
  },
  {
   "cell_type": "markdown",
   "metadata": {},
   "source": [
    "### Load dataset"
   ]
  },
  {
   "cell_type": "code",
   "execution_count": null,
   "metadata": {},
   "outputs": [
    {
     "name": "stdout",
     "output_type": "stream",
     "text": [
      "(25000,) (7500,) (17500,)\n",
      "0        I rented I AM CURIOUS-YELLOW from my video sto...\n",
      "1        \"I Am Curious: Yellow\" is a risible and preten...\n",
      "2        If only to avoid making this type of film in t...\n",
      "3        This film was probably inspired by Godard's Ma...\n",
      "4        Oh, brother...after hearing about this ridicul...\n",
      "                               ...                        \n",
      "24995    A hit at the time but now better categorised a...\n",
      "24996    I love this movie like no other. Another time ...\n",
      "24997    This film and it's sequel Barry Mckenzie holds...\n",
      "24998    'The Adventures Of Barry McKenzie' started lif...\n",
      "24999    The story centers around Barry McKenzie who mu...\n",
      "Name: text, Length: 25000, dtype: object 0        0\n",
      "1        0\n",
      "2        0\n",
      "3        0\n",
      "4        0\n",
      "        ..\n",
      "24995    1\n",
      "24996    1\n",
      "24997    1\n",
      "24998    1\n",
      "24999    1\n",
      "Name: label, Length: 25000, dtype: int64\n"
     ]
    }
   ],
   "source": [
    "dataset = load_dataset(\"imdb\") # Load the IMDB dataset from Hugging Face\n",
    "# print(dataset) # view dataset\n",
    "\"\"\"\n",
    "    DatasetDict({\n",
    "    train: Dataset({\n",
    "        features: ['text', 'label'],\n",
    "        num_rows: 25000\n",
    "    })\n",
    "    test: Dataset({\n",
    "        features: ['text', 'label'],\n",
    "        num_rows: 25000\n",
    "    })\n",
    "    unsupervised: Dataset({\n",
    "        features: ['text', 'label'],\n",
    "        num_rows: 50000\n",
    "    })\n",
    "})\n",
    "\n",
    "    sentiment: 1 = positive; 0 = negative\n",
    "    sample: {'text': 'I rented ...', 'label': 0}\n",
    "\"\"\"\n",
    "\n",
    "# train_data, val_data = train_test_split(dataset['train'][0], dataset['train'][1], test_size=0.2, random_state=seed) \n",
    "\n",
    "train_data = dataset['train']\n",
    "test_data = dataset['test']\n",
    "\n",
    "# convert huggingface dataset type to pandas dataframe\n",
    "train_df = pd.DataFrame({'text': train_data['text'], 'label': train_data['label']})\n",
    "test_df = pd.DataFrame({'text': test_data['text'], 'label': test_data['label']})\n",
    "\n",
    "# split into train, validation, test set (ratio 25000:7500:17500)\n",
    "X_train, y_train = train_df['text'], train_df['label']\n",
    "X_val, X_test, y_val, y_test = train_test_split(test_df['text'], test_df['label'], test_size=0.7, random_state=seed)\n",
    "\n",
    "print(X_train.shape, X_val.shape, X_test.shape)\n",
    "print(X_train, y_train)"
   ]
  },
  {
   "cell_type": "markdown",
   "metadata": {},
   "source": [
    "Vectorize text"
   ]
  },
  {
   "cell_type": "code",
   "execution_count": 29,
   "metadata": {},
   "outputs": [],
   "source": [
    "\n",
    "# create an instance of a CountVectorizer, using 'english' stopword; only keeping terms that occur in at least 2% of documents; allow only unigrams (\"ngram_range=(1, 1)\")\n",
    "vectorizer = CountVectorizer(stop_words='english', min_df=0.02, ngram_range=(1, 1))\n",
    "\n",
    "# transform a set of text data into a sparse Bag of Words (BoW) array\n",
    "# Each document in corpus (X_train) is represented as a vector of word counts.\n",
    "# The matrix will be sparse, meaning most of its values will be zeros (since most words do not appear in most documents) => memory and computational efficiency.\n",
    "vectorized_X_train = vectorizer.fit_transform(X_train) \n",
    "vectorized_X_val = vectorizer.fit_transform(X_val) \n",
    "vectorized_X_test = vectorizer.fit_transform(X_test) \n",
    "\n",
    "# print(vectorized_X_train[0])  # Coords    Values\n",
    "                                #  (0,728)    1          => (0, 728) is where the non-zero value is located (first row, 728rd column)\n",
    "                                #                             1 is the frequency, meaning that the 728rd word in the vocabulary appears once in the first review"
   ]
  },
  {
   "cell_type": "markdown",
   "metadata": {},
   "source": [
    "### Data visualization: \n",
    "Plot a histogram of how many unique words are in each review"
   ]
  },
  {
   "cell_type": "code",
   "execution_count": 33,
   "metadata": {},
   "outputs": [
    {
     "data": {
      "image/png": "[encoded data removed]",
      "text/plain": [
       "<Figure size 640x480 with 1 Axes>"
      ]
     },
     "metadata": {},
     "output_type": "display_data"
    }
   ],
   "source": [
    "def review_word_count_histgram(X):\n",
    "    '''\n",
    "    X: feature vectors\n",
    "    '''\n",
    "    unique_word_counts = np.array([x.count_nonzero() for x in X]) # number of unique words each row\n",
    "    num_reviews = len(unique_word_counts)\n",
    "    review_indices = np.arange(num_reviews)\n",
    "\n",
    "    plt.hist(unique_word_counts, bins=30)\n",
    "    plt.xlabel('Number of unique words in a review')\n",
    "    plt.ylabel('Frequency')\n",
    "    plt.grid(True)\n",
    "    plt.show()\n",
    "\n",
    "review_word_count_histgram(vectorized_X_train)\n",
    "# review_word_count_histgram(vectorized_X_val)\n",
    "# review_word_count_histgram(vectorized_X_test)"
   ]
  },
  {
   "cell_type": "code",
   "execution_count": null,
   "metadata": {},
   "outputs": [],
   "source": []
  }
 ],
 "metadata": {
  "kernelspec": {
   "display_name": "cs178",
   "language": "python",
   "name": "python3"
  },
  "language_info": {
   "codemirror_mode": {
    "name": "ipython",
    "version": 3
   },
   "file_extension": ".py",
   "mimetype": "text/x-python",
   "name": "python",
   "nbconvert_exporter": "python",
   "pygments_lexer": "ipython3",
   "version": "3.12.9"
  }
 },
 "nbformat": 4,
 "nbformat_minor": 2
}
